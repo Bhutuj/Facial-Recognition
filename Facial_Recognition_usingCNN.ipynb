{
 "cells": [
  {
   "cell_type": "code",
   "execution_count": 72,
   "id": "2ba09b46",
   "metadata": {},
   "outputs": [],
   "source": [
    "!pip install -r requirements.txt"
   ]
  },
  {
   "cell_type": "code",
   "execution_count": 71,
   "id": "3ea80e55",
   "metadata": {},
   "outputs": [],
   "source": [
    "import os\n",
    "import cv2\n",
    "import numpy as np\n",
    "from sklearn.model_selection import train_test_split\n",
    "from sklearn.preprocessing import LabelEncoder\n",
    "import torch\n",
    "import torch.nn as nn\n",
    "import torch.optim as optim\n",
    "import torch.nn.functional as F\n",
    "from sklearn.metrics import classification_report\n",
    "\n",
    "\n"
   ]
  },
  {
   "cell_type": "code",
   "execution_count": 61,
   "id": "f1d2f5c7",
   "metadata": {},
   "outputs": [
    {
     "name": "stdout",
     "output_type": "stream",
     "text": [
      "['anger', 'contempt', 'disgust', 'fear', 'happy', 'sadness', 'surprise']\n"
     ]
    }
   ],
   "source": [
    "import os\n",
    "\n",
    "def list_folders(directory):\n",
    "    folders = []\n",
    "    for item in os.listdir(directory):\n",
    "        item_path = os.path.join(directory, item)\n",
    "        if os.path.isdir(item_path):\n",
    "            folders.append(item)\n",
    "    return folders\n",
    "\n",
    "# Example usage\n",
    "directory_path = \"CK+48\"\n",
    "folders_list = list_folders(directory_path)\n",
    "print(folders_list)\n"
   ]
  },
  {
   "cell_type": "code",
   "execution_count": 62,
   "id": "48354e24",
   "metadata": {},
   "outputs": [],
   "source": [
    "# Step 1: Dataset Preparation\n",
    "dataset_dir = 'CK+48'  # Path to CK+ dataset directory\n",
    "\n",
    "# Define the list of emotions\n",
    "# emotions = ['anger', 'fear', 'happy', 'sadness', 'disgust']\n",
    "emotions = folders_list\n",
    "\n",
    "\n",
    "# Define the image width, height, and channels\n",
    "img_width = 128\n",
    "img_height = 128\n",
    "img_channels = 1\n",
    "\n",
    "# Initialize empty lists to store images and labels\n",
    "images = []\n",
    "labels = []\n",
    "\n",
    "# Load the images and labels\n",
    "for emotion in emotions:\n",
    "    emotion_dir = os.path.join(dataset_dir, emotion)\n",
    "    for image_name in os.listdir(emotion_dir):\n",
    "        image_path = os.path.join(emotion_dir, image_name)\n",
    "        image = cv2.imread(image_path, cv2.IMREAD_GRAYSCALE)\n",
    "        image = cv2.resize(image, (img_width, img_height))  # Resize the image\n",
    "        images.append(image)\n",
    "        labels.append(emotion)\n",
    "\n",
    "# Convert the image and label lists to NumPy arrays\n",
    "images = np.array(images)\n",
    "labels = np.array(labels)\n",
    "\n",
    "# Perform one-hot encoding on the labels\n",
    "label_encoder = LabelEncoder()\n",
    "labels_encoded = label_encoder.fit_transform(labels)\n",
    "\n",
    "# Split the dataset into training and testing sets\n",
    "X_train, X_test, y_train, y_test = train_test_split(images, labels_encoded, test_size=0.2, random_state=42)\n",
    "\n",
    "# Convert data to PyTorch tensors\n",
    "X_train = torch.from_numpy(X_train).unsqueeze(1).float()\n",
    "X_test = torch.from_numpy(X_test).unsqueeze(1).float()\n",
    "y_train = torch.from_numpy(y_train)\n",
    "y_test = torch.from_numpy(y_test)\n",
    "\n",
    "\n",
    "\n",
    "\n",
    "\n"
   ]
  },
  {
   "cell_type": "code",
   "execution_count": 63,
   "id": "37766b32",
   "metadata": {},
   "outputs": [],
   "source": [
    "# Step 2: Model Architecture (CNN)\n",
    "class EmotionModel(nn.Module):\n",
    "    def __init__(self, num_classes):\n",
    "        super(EmotionModel, self).__init__()\n",
    "        self.conv1 = nn.Conv2d(img_channels, 32, kernel_size=3, padding=1)\n",
    "        self.conv2 = nn.Conv2d(32, 64, kernel_size=3, padding=1)\n",
    "        self.fc1 = nn.Linear(64 * (img_width // 4) * (img_height // 4), 128)\n",
    "        self.fc2 = nn.Linear(128, num_classes)\n",
    "\n",
    "    def forward(self, x):\n",
    "        x = F.relu(self.conv1(x))\n",
    "        x = F.max_pool2d(x, kernel_size=2, stride=2)\n",
    "        x = F.relu(self.conv2(x))\n",
    "        x = F.max_pool2d(x, kernel_size=2, stride=2)\n",
    "        x = x.view(x.size(0), -1)\n",
    "        x = F.relu(self.fc1(x))\n",
    "        x = self.fc2(x)\n",
    "        return F.softmax(x, dim=1)\n",
    "\n",
    "model = EmotionModel(len(emotions))\n",
    "\n",
    "\n",
    "\n"
   ]
  },
  {
   "cell_type": "code",
   "execution_count": 64,
   "id": "7a494c24",
   "metadata": {},
   "outputs": [],
   "source": [
    "# Step 3: Model Training\n",
    "criterion = nn.CrossEntropyLoss()\n",
    "optimizer = optim.Adam(model.parameters(), lr=0.001)\n",
    "\n",
    "num_epochs = 10\n",
    "batch_size = 32\n",
    "num_train_samples = X_train.shape[0]\n",
    "num_batches = num_train_samples // batch_size\n",
    "\n",
    "for epoch in range(num_epochs):\n",
    "    for batch in range(num_batches):\n",
    "        start = batch * batch_size\n",
    "        end = start + batch_size\n",
    "        inputs = X_train[start:end]\n",
    "        labels = y_train[start:end]\n",
    "\n",
    "        optimizer.zero_grad()\n",
    "        outputs = model(inputs)\n",
    "        loss = criterion(outputs, labels)\n",
    "        loss.backward()\n",
    "        optimizer.step()\n"
   ]
  },
  {
   "cell_type": "code",
   "execution_count": 65,
   "id": "ddd8ae37",
   "metadata": {},
   "outputs": [
    {
     "name": "stdout",
     "output_type": "stream",
     "text": [
      "Classification Report:\n",
      "              precision    recall  f1-score   support\n",
      "\n",
      "       anger       0.00      0.00      0.00        23\n",
      "    contempt       0.00      0.00      0.00         9\n",
      "     disgust       0.00      0.00      0.00        43\n",
      "        fear       0.00      0.00      0.00        15\n",
      "       happy       0.00      0.00      0.00        43\n",
      "     sadness       0.00      0.00      0.00        19\n",
      "    surprise       0.23      1.00      0.37        45\n",
      "\n",
      "    accuracy                           0.23       197\n",
      "   macro avg       0.03      0.14      0.05       197\n",
      "weighted avg       0.05      0.23      0.08       197\n",
      "\n"
     ]
    },
    {
     "name": "stderr",
     "output_type": "stream",
     "text": [
      "D:\\internenv\\Lib\\site-packages\\sklearn\\metrics\\_classification.py:1469: UndefinedMetricWarning: Precision and F-score are ill-defined and being set to 0.0 in labels with no predicted samples. Use `zero_division` parameter to control this behavior.\n",
      "  _warn_prf(average, modifier, msg_start, len(result))\n",
      "D:\\internenv\\Lib\\site-packages\\sklearn\\metrics\\_classification.py:1469: UndefinedMetricWarning: Precision and F-score are ill-defined and being set to 0.0 in labels with no predicted samples. Use `zero_division` parameter to control this behavior.\n",
      "  _warn_prf(average, modifier, msg_start, len(result))\n",
      "D:\\internenv\\Lib\\site-packages\\sklearn\\metrics\\_classification.py:1469: UndefinedMetricWarning: Precision and F-score are ill-defined and being set to 0.0 in labels with no predicted samples. Use `zero_division` parameter to control this behavior.\n",
      "  _warn_prf(average, modifier, msg_start, len(result))\n"
     ]
    }
   ],
   "source": [
    "# Step 4: Model Evaluation\n",
    "test_outputs = model(X_test)\n",
    "_, predicted_labels = torch.max(test_outputs, 1)\n",
    "\n",
    "predicted_labels = [emotions[label] for label in predicted_labels]\n",
    "true_labels = [emotions[label] for label in y_test.numpy()]\n",
    "\n",
    "\n",
    "# predicted_labels = [emotions[label] for label in predicted_labels]\n",
    "# true_labels = [emotions[label] for label in y_test]\n",
    "classification_metrics = classification_report(true_labels, predicted_labels)\n",
    "print(\"Classification Report:\")\n",
    "print(classification_metrics)\n",
    "\n",
    "# Step 5: Load and Process a Test Image\n",
    "test_image_path = \"images.jpeg\"  # Provide the path to the test image\n",
    "# test_image_path = \"ElonMusk.jpg\"  # Provide the path to the test image\n",
    "\n",
    "# Load and preprocess the test image\n",
    "test_image = cv2.imread(test_image_path, cv2.IMREAD_GRAYSCALE)\n",
    "test_image = cv2.resize(test_image, (img_width, img_height))\n",
    "test_image = torch.from_numpy(test_image).unsqueeze(0).unsqueeze(1).float()\n",
    "\n",
    "# Make prediction for the test image\n",
    "test_output = model(test_image)\n",
    "_, predicted_label = torch.max(test_output, 1)\n",
    "\n",
    "predicted_emotion = emotions[predicted_label.item()]\n"
   ]
  },
  {
   "cell_type": "code",
   "execution_count": 66,
   "id": "b561b944",
   "metadata": {},
   "outputs": [
    {
     "name": "stdout",
     "output_type": "stream",
     "text": [
      "Predicted Emotion for the Test Image: surprise\n"
     ]
    }
   ],
   "source": [
    "\n",
    "print(\"Predicted Emotion for the Test Image:\", predicted_emotion)\n"
   ]
  },
  {
   "attachments": {
    "images.jpeg": {
     "image/jpeg": "[encoded data removed]"
    }
   },
   "cell_type": "markdown",
   "id": "ae627cc7",
   "metadata": {},
   "source": [
    "![images.jpeg](attachment:images.jpeg)"
   ]
  }
 ],
 "metadata": {
  "kernelspec": {
   "display_name": "Python 3 (ipykernel)",
   "language": "python",
   "name": "python3"
  },
  "language_info": {
   "codemirror_mode": {
    "name": "ipython",
    "version": 3
   },
   "file_extension": ".py",
   "mimetype": "text/x-python",
   "name": "python",
   "nbconvert_exporter": "python",
   "pygments_lexer": "ipython3",
   "version": "3.11.4"
  }
 },
 "nbformat": 4,
 "nbformat_minor": 5
}
